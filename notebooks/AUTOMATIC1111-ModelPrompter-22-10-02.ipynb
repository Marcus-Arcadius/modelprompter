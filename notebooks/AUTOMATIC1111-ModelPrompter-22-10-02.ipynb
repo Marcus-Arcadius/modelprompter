{
  "cells": [
    {
      "cell_type": "markdown",
      "metadata": {
        "id": "gfKvWAVnz8OB"
      },
      "source": [
        "Adapted from: https://colab.research.google.com/drive/1AfAmwLMd_Vx33O9IwY2TmO9wKZ8ABRRa"
      ]
    },
    {
      "cell_type": "code",
      "execution_count": null,
      "metadata": {
        "id": "p8FI40sFj9tU"
      },
      "outputs": [],
      "source": [
        "import os\n",
        "os.kill(os.getpid(), 9) # This will crash Colab (required, everything will still be intact so dont worry)"
      ]
    },
    {
      "cell_type": "markdown",
      "metadata": {
        "id": "OHCtG9MT0jLq"
      },
      "source": [
        "Clone webui repository"
      ]
    },
    {
      "cell_type": "code",
      "execution_count": null,
      "metadata": {
        "colab": {
          "base_uri": "https://localhost:8080/"
        },
        "id": "sBbcB4vwj_jm",
        "outputId": "6f3e89fa-ac21-42bb-9462-3a202241069f"
      },
      "outputs": [],
      "source": [
        "!git clone https://github.com/ModelPrompter/AUTOMATIC1111-Model-Prompter\n",
        "%cd AUTOMATIC1111-Model-Prompter"
      ]
    },
    {
      "cell_type": "markdown",
      "metadata": {
        "id": "F0EINk5M0s-w"
      },
      "source": [
        "Add your Hugging Face user_token, then download the model from huggingface. See link at the start for different ways."
      ]
    },
    {
      "cell_type": "code",
      "execution_count": null,
      "metadata": {
        "colab": {
          "base_uri": "https://localhost:8080/"
        },
        "id": "CT_J9L7oqLxG",
        "outputId": "f87b209c-cbef-4bb5-b711-aaedbdaf99eb"
      },
      "outputs": [],
      "source": [
        "#@title Normal 1.4 model\n",
        "# get a token from https://huggingface.co/settings/tokens\n",
        "user_token = \"\" #@param {type:\"string\"}\n",
        "user_header = f\"\\\"Authorization: Bearer {user_token}\\\"\"\n",
        "!wget --header={user_header} https://huggingface.co/CompVis/stable-diffusion-v-1-4-original/resolve/main/sd-v1-4.ckpt -O /content/AUTOMATIC1111-Model-Prompter/model.ckpt"
      ]
    },
    {
      "cell_type": "markdown",
      "metadata": {
        "id": "v2kY0Z05DwIN"
      },
      "source": [
        "Voldy doesn't explain what this does but it appears to replace the prior dependencies section, saving a few lines lmao "
      ]
    },
    {
      "cell_type": "code",
      "execution_count": null,
      "metadata": {
        "colab": {
          "base_uri": "https://localhost:8080/"
        },
        "id": "IB19TzabDtYF",
        "outputId": "46509796-1cc6-4b2e-8b89-c2ec4e482cb1"
      },
      "outputs": [],
      "source": [
        "!COMMANDLINE_ARGS=\"--exit\" REQS_FILE=\"requirements.txt\" python launch.py"
      ]
    },
    {
      "cell_type": "markdown",
      "metadata": {
        "id": "S8nvm5f6AfaL"
      },
      "source": [
        "Change into Web UI directory and download updates"
      ]
    },
    {
      "cell_type": "code",
      "execution_count": null,
      "metadata": {
        "colab": {
          "base_uri": "https://localhost:8080/"
        },
        "id": "I1j4j2NfAQye",
        "outputId": "73176f1f-8591-4658-c09f-775c0d521a4d"
      },
      "outputs": [],
      "source": [
        "%cd AUTOMATIC1111-Model-Prompter\n",
        "!git pull"
      ]
    },
    {
      "cell_type": "markdown",
      "metadata": {
        "id": "xt8lbdmC04ox"
      },
      "source": [
        "Launch web ui. You will get a link to nnn.gradio.app, follow it.\n",
        "\n",
        "Commandline arguments are:\n",
        "  - `--share` - create online gradio.app link\n",
        "  - `--gradio-debug` - print outputs to console\n",
        "  - `--gradio-auth me:qwerty` - add authentication to gradio: username me, password qwerty"
      ]
    },
    {
      "cell_type": "code",
      "execution_count": null,
      "metadata": {
        "colab": {
          "base_uri": "https://localhost:8080/"
        },
        "id": "R-xAdMA5wxXd",
        "outputId": "3085cde1-1f5b-4e7f-f9cf-027b087a544e"
      },
      "outputs": [],
      "source": [
        "!COMMANDLINE_ARGS=\"--share --gradio-debug\" REQS_FILE=\"requirements.txt\" python launch.py"
      ]
    },
    {
      "cell_type": "markdown",
      "metadata": {
        "id": "9qrpRUJpno7L"
      },
      "source": [
        "commands for ***after*** you have gotten done with a session\n",
        "============================================================================"
      ]
    },
    {
      "cell_type": "markdown",
      "metadata": {
        "id": "zB-L8JpElKp-"
      },
      "source": [
        "Zip images for downloading on local drive (click the folder icon on the left, the one below {x})"
      ]
    },
    {
      "cell_type": "code",
      "execution_count": null,
      "metadata": {
        "id": "gBt5g_Dn0NFo"
      },
      "outputs": [],
      "source": [
        "!zip -r /content/AUTOMATIC1111-Model-Prompter /content/AUTOMATIC1111-Model-Prompter/outputs "
      ]
    },
    {
      "cell_type": "markdown",
      "metadata": {
        "id": "odNn2KF5lFmb"
      },
      "source": [
        "Save images to Google Drive **Warning: this will cause google to scan your drive, so if you intend to use this and worry about that kind of stuff, probablly just set this up on a clean account that's just for this colab**"
      ]
    },
    {
      "cell_type": "code",
      "execution_count": null,
      "metadata": {
        "id": "zNEgJfbhDwI6"
      },
      "outputs": [],
      "source": [
        "from google.colab import drive # type: ignore\n",
        "\n",
        "try:\n",
        "   drive_path = \"/content/drive\"\n",
        "   drive.mount(drive_path,force_remount=False)\n",
        "except:\n",
        "   print(\"...error mounting drive or with drive path variables\")\n",
        "\n",
        "!cp -r \"/content/AUTOMATIC1111-Model-Prompter/outputs\" \"/content/drive/MyDrive\""
      ]
    }
  ],
  "metadata": {
    "accelerator": "GPU",
    "colab": {
      "collapsed_sections": [
        "9qrpRUJpno7L"
      ],
      "provenance": []
    },
    "gpuClass": "standard",
    "kernelspec": {
      "display_name": "Python 3",
      "name": "python3"
    },
    "language_info": {
      "name": "python"
    }
  },
  "nbformat": 4,
  "nbformat_minor": 0
}
